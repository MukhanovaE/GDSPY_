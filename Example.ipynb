{
 "cells": [
  {
   "cell_type": "code",
   "execution_count": 1,
   "id": "bf7e4b0c",
   "metadata": {
    "ExecuteTime": {
     "end_time": "2025-01-30T16:31:34.156560Z",
     "start_time": "2025-01-30T16:31:33.962175Z"
    }
   },
   "outputs": [],
   "source": [
    "from EDTpy.ChipElements import *\n",
    "import numpy as np\n",
    "import copy\n",
    "from EDTpy import settings\n",
    "import EDTpy\n",
    "from EDTpy import EmptyGeometry\n",
    "from EDTpy import EmptyPath\n",
    "from EDTpy.settings import *"
   ]
  },
  {
   "cell_type": "markdown",
   "id": "2eddc9e7",
   "metadata": {},
   "source": [
    "# Installation of gdspy"
   ]
  },
  {
   "cell_type": "code",
   "execution_count": 2,
   "id": "1515ce10",
   "metadata": {
    "ExecuteTime": {
     "end_time": "2025-01-30T16:31:36.981907Z",
     "start_time": "2025-01-30T16:31:34.159561Z"
    }
   },
   "outputs": [
    {
     "name": "stdout",
     "output_type": "stream",
     "text": [
      "Requirement already satisfied: gdspy in c:\\users\\mukha\\anaconda3\\lib\\site-packages (1.6.12)\n",
      "Requirement already satisfied: numpy in c:\\users\\mukha\\anaconda3\\lib\\site-packages (from gdspy) (1.24.3)\n",
      "Note: you may need to restart the kernel to use updated packages.\n"
     ]
    }
   ],
   "source": [
    "%pip install gdspy"
   ]
  },
  {
   "cell_type": "markdown",
   "id": "cffe0c64",
   "metadata": {},
   "source": [
    "# Testing if everything works"
   ]
  },
  {
   "cell_type": "code",
   "execution_count": 5,
   "id": "00dd658a",
   "metadata": {
    "ExecuteTime": {
     "end_time": "2025-01-30T16:49:17.441908Z",
     "start_time": "2025-01-30T16:49:17.434907Z"
    }
   },
   "outputs": [],
   "source": [
    "import gdspy"
   ]
  },
  {
   "cell_type": "markdown",
   "id": "c972948e",
   "metadata": {},
   "source": [
    "# First attempt to draw"
   ]
  },
  {
   "cell_type": "code",
   "execution_count": 53,
   "id": "0ea0bcf8",
   "metadata": {
    "ExecuteTime": {
     "end_time": "2025-01-30T17:13:32.966422Z",
     "start_time": "2025-01-30T17:13:32.947417Z"
    }
   },
   "outputs": [],
   "source": [
    "class Marker(EmptyGeometry):\n",
    "    default_values = {\n",
    "        \"a\": 20,\n",
    "        \"b\": 100,\n",
    "        \"layer\": 0,\n",
    "    }\n",
    "\n",
    "    def _drawing(self, values):\n",
    "        self.name = \"Marker\"\n",
    "        \n",
    "        a = values['a']\n",
    "        b = values['b']\n",
    "        layer = values['layer']\n",
    "        \n",
    "        self + gdspy.Rectangle([-b/2-b/10, -b/2-b/10],\n",
    "                               [b/2+b/10, b/2+b/10], layer = 0)\n",
    "        \n",
    "        mark = gdspy.boolean(gdspy.Rectangle([-b/2, -a/2],[b/2, a/2]), gdspy.Rectangle([-a/2, -b/2],\n",
    "                               [a/2, b/2]), 'or', layer = 0)\n",
    "        self - mark\n",
    "        self.add_port([0, 0], 180)"
   ]
  },
  {
   "cell_type": "code",
   "execution_count": 8,
   "id": "74ed5850",
   "metadata": {
    "ExecuteTime": {
     "end_time": "2025-01-30T16:52:44.069087Z",
     "start_time": "2025-01-30T16:51:24.589989Z"
    }
   },
   "outputs": [
    {
     "name": "stderr",
     "output_type": "stream",
     "text": [
      "Assembling Empty Sketch: 100%|███████████████████████████████████████████████████████████████████| 1/1 [00:00<?, ?it/s]\n"
     ]
    },
    {
     "data": {
      "text/plain": [
       "\"'Empty Sketch', (0.0, 0.0), 0.0 deg, 0 ports\\n\""
      ]
     },
     "execution_count": 8,
     "metadata": {},
     "output_type": "execute_result"
    }
   ],
   "source": [
    "sketch = EDTpy.EmptySketch()   # creating the layout\n",
    "Marker = Marker()              # creating object\n",
    "sketch.add_geometry(Marker)    # adding the object to layout\n",
    "sketch.assemble()              # assemble\n",
    "sketch.show()                  # plotting in a separate window"
   ]
  },
  {
   "cell_type": "markdown",
   "id": "1ad43930",
   "metadata": {},
   "source": [
    "# Creating and merging ports"
   ]
  },
  {
   "cell_type": "code",
   "execution_count": 20,
   "id": "14919196",
   "metadata": {
    "ExecuteTime": {
     "end_time": "2025-01-30T16:59:59.666107Z",
     "start_time": "2025-01-30T16:59:59.649116Z"
    }
   },
   "outputs": [],
   "source": [
    "class Port_with_C(EmptyGeometry):\n",
    "    default_values = {\n",
    "        \"s\": CPW.default_values['S'],\n",
    "        \"w\": CPW.default_values['W'],\n",
    "        \"N\": 2, #number of odd elements\n",
    "        \"l\": 50, \n",
    "        \"a\": 3.3, # width of finger\n",
    "        \"b\": 3.3, # gap between fingers\n",
    "        \"g\": 10, # gap between fingers and GND\n",
    "        \"contact_pad_size\": 200,\n",
    "        \"layer\": 0,\n",
    "    }\n",
    "\n",
    "    def _drawing(self, values):\n",
    "        self.name = \"CPW_C\"\n",
    "        \n",
    "        w = values['w']\n",
    "        s = values['s']\n",
    "        N = int((values['N'])/2)\n",
    "        a = values['a']\n",
    "        b = values['b']\n",
    "        l = values['l']+b*2\n",
    "        g = values['g']\n",
    "        gnd = 50\n",
    "        \n",
    "        contact_pad_size = values['contact_pad_size']\n",
    "        layer = values['layer']\n",
    "        \n",
    "        self + gdspy.Rectangle([0, -s/2-w],\n",
    "                               [10, s/2+w], layer = 0)\n",
    "        self - gdspy.Rectangle([0, -s/2],\n",
    "                               [10, s/2], layer = 0)\n",
    "        \n",
    "        L = l+gnd\n",
    "        jo = (N)*(a+b)*2+a/2\n",
    "        jo_g = jo+g\n",
    "        offset = L*0.4\n",
    "        points = [(10, s/2+w), \n",
    "                  (offset, jo_g), (offset+L, jo_g), \n",
    "                  (offset+L, jo), (offset, jo), (10, s/2)]\n",
    "        self + gdspy.Polygon(points)\n",
    "        points = [(10, -s/2-w), \n",
    "                  (offset, -jo_g), (offset+L, -jo_g), \n",
    "                  (offset+L, -jo), (offset, -jo), (10, -s/2)]\n",
    "        self + gdspy.Polygon(points)\n",
    "        \n",
    "        offset1 = offset*1.3\n",
    "        self + gdspy.Rectangle([offset1, jo],\n",
    "                               [offset1+l, -jo], layer = 0)\n",
    "        \n",
    "        self - gdspy.Rectangle([offset1,      a/2],\n",
    "                               [offset1+l-b,  -a/2], layer = 0)\n",
    "        \n",
    "        for n in range(N):\n",
    "            self - gdspy.Rectangle([offset1,     a/2+2*(a+b)*(n+1)-b],\n",
    "                                   [offset1+l-b, a/2+2*(a+b)*(n+1)-b+a], layer = 0)\n",
    "            self - gdspy.Rectangle([offset1,     -a/2-2*(a+b)*(n+1)+b],\n",
    "                                   [offset1+l-b, -a/2-2*(a+b)*(n+1)+b-a], layer = 0)\n",
    "            \n",
    "            self - gdspy.Rectangle([offset1+b,     a/2+2*(a+b)*(n)+b],\n",
    "                                   [offset1+l,     a/2+2*(a+b)*(n)+a+b], layer = 0)\n",
    "            self - gdspy.Rectangle([offset1+b,    -a/2-2*(a+b)*(n)-b],\n",
    "                                   [offset1+l,    -a/2-2*(a+b)*(n)-a-b], layer = 0)\n",
    "        \n",
    "        z = offset+L\n",
    "        self + gdspy.Rectangle([z+100, -contact_pad_size/2-50],\n",
    "                               [z+100+contact_pad_size+50, contact_pad_size/2+50], layer = 0)\n",
    "        self - gdspy.Rectangle([z+100, -contact_pad_size/2],\n",
    "                       [z+100+contact_pad_size, contact_pad_size/2], layer = 0)\n",
    "        \n",
    "        points = [(z, jo_g), \n",
    "                  (z+100, contact_pad_size/2+50), (z+100, contact_pad_size/2), \n",
    "                  (z, jo)]\n",
    "        self + gdspy.Polygon(points)\n",
    "        \n",
    "        points = [(z, -jo_g), \n",
    "                  (z+100, -contact_pad_size/2-50), (z+100, -contact_pad_size/2), \n",
    "                  (z, -jo)]\n",
    "        self + gdspy.Polygon(points)\n",
    "\n",
    "        self.add_port([0, 0], 180)"
   ]
  },
  {
   "cell_type": "code",
   "execution_count": 29,
   "id": "d2d0c6cb",
   "metadata": {
    "ExecuteTime": {
     "end_time": "2025-01-30T17:03:52.777154Z",
     "start_time": "2025-01-30T17:03:39.666642Z"
    }
   },
   "outputs": [
    {
     "name": "stderr",
     "output_type": "stream",
     "text": [
      "Assembling Empty Sketch: 100%|█████████████████████████████████████████████████████████| 2/2 [00:00<00:00, 2016.49it/s]\n"
     ]
    },
    {
     "data": {
      "text/plain": [
       "\"'Empty Sketch', (0.0, 0.0), 0.0 deg, 2 ports\\n\""
      ]
     },
     "execution_count": 29,
     "metadata": {},
     "output_type": "execute_result"
    }
   ],
   "source": [
    "sketch = EDTpy.EmptySketch()        \n",
    "\n",
    "sketch.add_port([0, 0], 0)           #Marker port  --  0\n",
    "\n",
    "Port_with_C_1 = Port_with_C()  \n",
    "Port_with_C_1.merge_with(sketch.ports[0], 0)\n",
    "sketch.add_geometry(Port_with_C_1)\n",
    "\n",
    "\n",
    "sketch.add_port([0, 0], 180)           #Marker port  --  1\n",
    "\n",
    "Port_with_C_2 = Port_with_C()          \n",
    "Port_with_C_2.merge_with(sketch.ports[1], 0)\n",
    "sketch.add_geometry(Port_with_C_2)\n",
    "\n",
    "sketch.assemble()                    \n",
    "sketch.show()                        "
   ]
  },
  {
   "cell_type": "markdown",
   "id": "15a03083",
   "metadata": {},
   "source": [
    "# Filters"
   ]
  },
  {
   "cell_type": "code",
   "execution_count": 84,
   "id": "11853ad6",
   "metadata": {
    "ExecuteTime": {
     "end_time": "2025-01-30T17:20:53.887018Z",
     "start_time": "2025-01-30T17:20:53.875015Z"
    }
   },
   "outputs": [],
   "source": [
    "dc_s = 10\n",
    "dc_w = 10"
   ]
  },
  {
   "cell_type": "code",
   "execution_count": 87,
   "id": "fd867b08",
   "metadata": {
    "ExecuteTime": {
     "end_time": "2025-01-30T17:21:07.052168Z",
     "start_time": "2025-01-30T17:21:06.996156Z"
    }
   },
   "outputs": [],
   "source": [
    "class Planar_inductor(EmptyGeometry):\n",
    "    default_values = {\n",
    "        \"a\": dc_s,\n",
    "        \"b\": dc_w,\n",
    "        \"gap\": dc_w,\n",
    "        \"N_sp\": 12,\n",
    "        \"width\": 200,\n",
    "        \"leg\": 0,\n",
    "        \"layer\": 0,\n",
    "    }\n",
    "\n",
    "    def _drawing(self, values):\n",
    "        self.name = \"Planar_inductor\"\n",
    "        \n",
    "        a = values['a']\n",
    "        b = values['b']\n",
    "        N_sp = values['N_sp']\n",
    "        w = values['width']\n",
    "        gap = values['gap']\n",
    "        leg = values['leg']\n",
    "        layer = values['layer']\n",
    "\n",
    "        self + gdspy.Rectangle([0, w+b],\n",
    "                               [(a+b)*2*(N_sp)+4*b+a+b, -w-b], layer = 0)\n",
    "\n",
    "        self - gdspy.Rectangle([0, -a/2],\n",
    "                               [2*b+b+a, a/2], layer = 0)\n",
    "        \n",
    "        self - gdspy.Rectangle([2*b+b, a/2],\n",
    "                               [2*b+b+a, w+a/2-gap], layer = 0)\n",
    "\n",
    "        for i in range(N_sp):\n",
    "            self - gdspy.Rectangle([2*b+b+a+(2*a+2*b)*(i), w+a/2-gap],\n",
    "                                   [2*b+b+a+b+(2*a+2*b)*(i), w-gap-a/2], layer = 0)\n",
    "            self - gdspy.Rectangle([2*b+b+a+b+(2*a+2*b)*(i), w-gap+a/2],\n",
    "                                   [2*b+b+a+b+a+(2*a+2*b)*(i), -w-a/2+gap], layer = 0)\n",
    "            self - gdspy.Rectangle([2*b+b+a+b+a+(2*a+2*b)*(i), -w-a/2+gap],\n",
    "                                   [2*b+b+a+b+a+(2*a+2*b)*(i)+b, -w-a/2+gap+a], layer = 0)\n",
    "            self - gdspy.Rectangle([2*b+b+a+b+a+b+(2*a+2*b)*(i), w-gap+a/2],\n",
    "                                   [2*b+b+a+b+a+a+b+(2*a+2*b)*(i), -w-a/2+gap], layer = 0)\n",
    "\n",
    "        self + gdspy.Rectangle([2*b+b+(2*a+2*b)*(N_sp), a/2],\n",
    "                               [2*b+b+a+(2*a+2*b)*(N_sp), w+a/2-gap], layer = 0)\n",
    "        self - gdspy.Rectangle([(a+b)*2*(N_sp)+a+b+b*2, -a/2],\n",
    "                               [(a+b)*2*(N_sp)+a+b+b*4, a/2], layer = 0)  \n",
    "        #leg for connection\n",
    "        x_start = (a+b)*2*(N_sp)+a+b+b*4\n",
    "        self + gdspy.Rectangle([x_start, -CPW.default_values['S']/2-CPW.default_values['W']],\n",
    "                               [x_start+leg, CPW.default_values['S']/2+CPW.default_values['W']], layer = 0)  \n",
    "        self - gdspy.Rectangle([x_start, -CPW.default_values['S']/2],\n",
    "                               [x_start+leg, CPW.default_values['S']/2], layer = 0)  \n",
    "\n",
    "        self.add_port([x_start+leg, 0], 0)\n",
    "        self.add_port([0, 0], 180)\n",
    "        \n",
    "        \n",
    "        \n",
    "        \n",
    "class Planar_capasitor(EmptyGeometry):\n",
    "    default_values = {\n",
    "        \"a\": dc_s,\n",
    "        \"b\": dc_w,\n",
    "        \"gap\": dc_w,\n",
    "        \"N_sp\": 15,\n",
    "        \"width\": 120,\n",
    "        \"layer\": 0,\n",
    "        \"leg\": 0\n",
    "    }\n",
    "\n",
    "    def _drawing(self, values):\n",
    "        self.name = \"Planar_capasitor\"\n",
    "        \n",
    "        a = values['a']\n",
    "        b = values['b']\n",
    "        N_sp = values['N_sp']\n",
    "        w = values['width']\n",
    "        gap = values['gap']\n",
    "        layer = values['layer']\n",
    "        leg = values['leg']\n",
    "\n",
    "        self + gdspy.Rectangle([0, w],\n",
    "                               [(a+b)*2*(N_sp)+4*b+a+b, -w], layer = 0)\n",
    "\n",
    "        self - gdspy.Rectangle([0, -a/2],\n",
    "                               [2*b, a/2], layer = 0)\n",
    "\n",
    "        for i in range(N_sp):\n",
    "\n",
    "            self - gdspy.Rectangle([2*b+(2*a+2*b)*(i), -a/2],\n",
    "                                   [2*b+(2*a+2*b)*(i+1), a/2], layer = 0)\n",
    "            \n",
    "            self - gdspy.Rectangle([2*b+b+(2*a+2*b)*(i), w],\n",
    "                                   [2*b+b+a+(2*a+2*b)*(i), a/2+gap], layer = 0)\n",
    "            self - gdspy.Rectangle([2*b+b+(2*a+2*b)*(i), -w],\n",
    "                                   [2*b+b+a+(2*a+2*b)*(i), -a/2-gap], layer = 0)\n",
    "            \n",
    "            self - gdspy.Rectangle([2*b+b+a+b+(2*a+2*b)*(i), w-gap],\n",
    "                                   [2*b+b+a+b+a+(2*a+2*b)*(i), a/2], layer = 0)\n",
    "            self - gdspy.Rectangle([2*b+b+a+b+(2*a+2*b)*(i), -w+gap],\n",
    "                                   [2*b+b+a+b+a+(2*a+2*b)*(i), -a/2], layer = 0)\n",
    "            \n",
    "        self - gdspy.Rectangle([(a+b)*2*(N_sp)+b*2, -a/2],\n",
    "                               [(a+b)*2*(N_sp)+a+b+2*b, a/2], layer = 0)\n",
    "                    \n",
    "        self - gdspy.Rectangle([(a+b)*2*(N_sp)+b*2+a, w],\n",
    "                               [(a+b)*2*(N_sp)+b*2+a+b, a/2+gap], layer = 0)\n",
    "        self - gdspy.Rectangle([(a+b)*2*(N_sp)+b*2+a, -w],\n",
    "                               [(a+b)*2*(N_sp)+b*2+a+b, -a/2-gap], layer = 0)\n",
    "        \n",
    "        self - gdspy.Rectangle([(a+b)*2*(N_sp)+a+b+b*2, -a/2],\n",
    "                               [(a+b)*2*(N_sp)+a+b+b*4, a/2], layer = 0)  \n",
    "        \n",
    "        x_start = (a+b)*2*(N_sp)+a+b+b*4\n",
    "        self + gdspy.Rectangle([x_start, -CPW.default_values['S']/2-CPW.default_values['W']],\n",
    "                               [x_start+leg, CPW.default_values['S']/2+CPW.default_values['W']], layer = 0)  \n",
    "        self - gdspy.Rectangle([x_start, -CPW.default_values['S']/2],\n",
    "                               [x_start+leg, CPW.default_values['S']/2], layer = 0)\n",
    "\n",
    "        self.add_port([x_start+leg, 0], 0)\n",
    "        self.add_port([0, 0], 180)\n",
    "        \n",
    "        \n",
    "        \n",
    "class Contact_pad_spiral(EmptyGeometry):\n",
    "    default_values = {\n",
    "        \"a\": dc_s,\n",
    "        \"b\": dc_w,\n",
    "        \"N_sp\": 6,\n",
    "        \"contact_pad_size\": 300,\n",
    "        \"layer\": 0,\n",
    "    }\n",
    "\n",
    "    def _drawing(self, values):\n",
    "        self.name = \"Contact_pad_spiral\"\n",
    "        \n",
    "        a = values['a']\n",
    "        b = values['b']\n",
    "        N_sp = values['N_sp']\n",
    "        contact_pad_size = values['contact_pad_size']\n",
    "        layer = values['layer']\n",
    "\n",
    "        self + gdspy.Rectangle([contact_pad_size/2+b+a+(a+b)*(N_sp)+b*3, (contact_pad_size/2+b+a+(a+b)*(N_sp)+b*3)],\n",
    "                                 [-(contact_pad_size/2+b+a+(a+b)*(N_sp)+b*3), -(contact_pad_size/2+b+a+(a+b)*(N_sp)+b*3)], layer = 0)\n",
    "\n",
    "        \n",
    "        self - gdspy.Rectangle([-contact_pad_size/2, -contact_pad_size/2],\n",
    "                                 [contact_pad_size/2, contact_pad_size/2], layer = 0)\n",
    "\n",
    "        self - gdspy.Rectangle([-a/2, contact_pad_size/2],\n",
    "                                 [a/2, contact_pad_size/2+b], layer = 0)\n",
    "        self - gdspy.Rectangle([-a/2, contact_pad_size/2+b],\n",
    "                                 [contact_pad_size/2+b, contact_pad_size/2+b+a], layer = 0)\n",
    "\n",
    "        for i in range(N_sp):\n",
    "\n",
    "            self - gdspy.Rectangle([contact_pad_size/2+b+(a+b)*(i), contact_pad_size/2+b+a+(a+b)*(i)],\n",
    "                                     [contact_pad_size/2+b+a+(a+b)*(i), -contact_pad_size/2-b-(a+b)*(i)], layer = 0)\n",
    "\n",
    "            self - gdspy.Rectangle([-contact_pad_size/2-b-(a+b)*(i), -contact_pad_size/2-b-a-(a+b)*(i)],\n",
    "                                     [contact_pad_size/2+b+a+(a+b)*(i), -contact_pad_size/2-b-(a+b)*(i)], layer = 0)\n",
    "\n",
    "            self - gdspy.Rectangle([-contact_pad_size/2-b-(a+b)*(i), -contact_pad_size/2-b-a-(a+b)*(i)],\n",
    "                                     [-contact_pad_size/2-b-a-(a+b)*(i), +contact_pad_size/2+b+(a+b)*(i+1)], layer = 0)\n",
    "\n",
    "            self - gdspy.Rectangle([-contact_pad_size/2-b-a-(a+b)*(i), contact_pad_size/2+b+(a+b)*(i+1)],\n",
    "                                     [contact_pad_size/2+b+(a+b)*(i+1), contact_pad_size/2+b+a+(a+b)*(i+1)], layer = 0)\n",
    "\n",
    "        self - gdspy.Rectangle([contact_pad_size/2+b+(a+b)*(N_sp), contact_pad_size/2+b+a+(a+b)*(N_sp)],\n",
    "                                 [contact_pad_size/2+b+a+(a+b)*(N_sp), a/2], layer = 0)  \n",
    "\n",
    "        self - gdspy.Rectangle([contact_pad_size/2+b+(a+b)*(N_sp), a/2],\n",
    "                                 [contact_pad_size/2+b+a+(a+b)*(N_sp)+b*3, -a/2], layer = 0)  \n",
    "\n",
    "        self.add_port([contact_pad_size/2+b+a+(a+b)*(N_sp)+b*3, 0], 0)\n",
    "        self.add_port([0, 0], 180)\n",
    "        \n",
    "        \n",
    "class LCLC(EmptyGeometry):\n",
    "    default_values = {\n",
    "        \"a\": 20,\n",
    "        \"b\": 100,\n",
    "        \"layer\": 0,\n",
    "        \"w\": 270,\n",
    "        \"N_sp\": 10,\n",
    "        \"N_c1\": 10,\n",
    "        \"N_ind\": 10,\n",
    "        \"N_c2\": 10,\n",
    "        \"line\": 2,\n",
    "    }\n",
    "\n",
    "    def _drawing(self, values):\n",
    "        self.name = \"Marker\"\n",
    "        \n",
    "        a = values['a']\n",
    "        b = values['b']\n",
    "        layer = values['layer']\n",
    "        w=values['w']\n",
    "\n",
    "        N_sp=values['N_sp']\n",
    "        N_c1=values['N_c1']\n",
    "        N_ind=values['N_ind']\n",
    "        N_c2=values['N_c2']\n",
    "        \n",
    "        line=values['line']\n",
    "        \n",
    "        spiral = Contact_pad_spiral(N_sp=N_sp)\n",
    "#         spiral.merge_with(self.ports[9], 1)\n",
    "        self + spiral\n",
    "        cap = Planar_capasitor(width=w, N_sp=N_c1, leg = 0)\n",
    "        cap.merge_with(spiral.ports[0], 0)\n",
    "        self + cap\n",
    "        ind_oo = Planar_inductor(width=w, N_sp=N_ind, leg = 0)\n",
    "        ind_oo.merge_with(cap.ports[1], 0)\n",
    "        self + ind_oo\n",
    "        cap_o1o = Planar_capasitor(width=w, N_sp = N_c2, leg = 0)\n",
    "        cap_o1o.merge_with(ind_oo.ports[1], 0)\n",
    "        self + cap_o1o\n",
    "        x = cap_o1o.ports[1].position[0]\n",
    "        y = cap_o1o.ports[1].position[1]\n",
    "        self.add_port([0, 0], 0)\n",
    "        self.add_port([x, y], 0)\n",
    "        "
   ]
  },
  {
   "cell_type": "code",
   "execution_count": 88,
   "id": "15a7a2e8",
   "metadata": {
    "ExecuteTime": {
     "end_time": "2025-01-30T17:21:10.213615Z",
     "start_time": "2025-01-30T17:21:07.634731Z"
    }
   },
   "outputs": [
    {
     "name": "stderr",
     "output_type": "stream",
     "text": [
      "Assembling Empty Sketch: 100%|██████████████████████████████████████████████████████████| 1/1 [00:00<00:00, 500.16it/s]\n"
     ]
    },
    {
     "data": {
      "text/plain": [
       "\"'Empty Sketch', (0.0, 0.0), 0.0 deg, 0 ports\\n\""
      ]
     },
     "execution_count": 88,
     "metadata": {},
     "output_type": "execute_result"
    }
   ],
   "source": [
    "sketch = EDTpy.EmptySketch()   \n",
    "LCLC_1 = LCLC(N_sp=5, N_c1=15, N_ind=20, N_c2=15)   # setting individual parameters\n",
    "sketch.add_geometry(LCLC_1)      \n",
    "sketch.assemble()             \n",
    "sketch.show()                 "
   ]
  },
  {
   "cell_type": "markdown",
   "id": "ef263702",
   "metadata": {},
   "source": [
    "# CPW line"
   ]
  },
  {
   "cell_type": "code",
   "execution_count": 50,
   "id": "a1d809d3",
   "metadata": {
    "ExecuteTime": {
     "end_time": "2025-01-30T17:11:34.311582Z",
     "start_time": "2025-01-30T17:11:34.300581Z"
    }
   },
   "outputs": [],
   "source": [
    "# setting cpw parameters\n",
    "CPW.default_values['S'] = 18\n",
    "CPW.default_values['W'] = 12\n",
    "CPW.default_values['layer'] = 0"
   ]
  },
  {
   "cell_type": "code",
   "execution_count": 90,
   "id": "3ee57f5c",
   "metadata": {
    "ExecuteTime": {
     "end_time": "2025-01-30T17:22:31.912334Z",
     "start_time": "2025-01-30T17:22:31.853321Z"
    }
   },
   "outputs": [
    {
     "name": "stdout",
     "output_type": "stream",
     "text": [
      "Resonator length 3034.955592153876\n"
     ]
    },
    {
     "name": "stderr",
     "output_type": "stream",
     "text": [
      "Assembling Empty Sketch: 100%|█████████████████████████████████████████████████████████| 7/7 [00:00<00:00, 1400.03it/s]\n"
     ]
    }
   ],
   "source": [
    "sketch = EDTpy.EmptySketch()\n",
    "sketch + gdspy.Rectangle([-5000/2, -5000/2],\n",
    "                         [5000/2, 5000/2], layer = 0)\n",
    "\n",
    "sketch - gdspy.Rectangle([-5000/2 + 250, -5000/2 + 250],\n",
    "                         [5000/2 - 250, 5000/2 - 250], layer = 0)\n",
    "\n",
    "\n",
    "\n",
    "sketch.add_port([-2000, 2000], -180) #Marker port  --  0\n",
    "\n",
    "CPW.default_values['S'] = 18\n",
    "CPW.default_values['W'] = 12\n",
    "\n",
    "marker = Marker()\n",
    "marker.merge_with(sketch.ports[0], 0)\n",
    "sketch.add_geometry(marker)\n",
    "sketch.circular_array(marker)\n",
    "\n",
    "sketch.add_port([-1650, 1200], 180) #Marker port  --  1\n",
    "\n",
    "res_path = [[50, 1200], \n",
    "            [350, 1200], \n",
    "            [350, 1800], \n",
    "            [850, 1800], \n",
    "            [850, 1200], \n",
    "            [1300, 1200], \n",
    "            [1300, 1600], \n",
    "            [2000, 1600]]\n",
    "res_R = 200\n",
    "res = CPW(res_path, res_R)\n",
    "print('Resonator length', res.length)\n",
    "CPW_c_r = CPW_C(s=18, w=12)\n",
    "CPW_c_r.merge_with(sketch.ports[1], 0)\n",
    "sketch.add_geometry(CPW_c_r)\n",
    "res.merge_with(CPW_c_r.ports[0], 0)\n",
    "sketch.add_geometry(res)\n",
    "\n",
    "x0 = 800\n",
    "y0 = 400\n",
    "text = gdspy.Text(\"R8.436\", 250, (x0-145, y0+33))\n",
    "sketch + text \n",
    "\n",
    "\n",
    "sketch.add_port([-1650, -1200], 0) #Marker port  --  2\n",
    "\n",
    "dc_s = 30\n",
    "dc_w = 30\n",
    "\n",
    "lclc = LCLC(N_sp=4, N_c1=5, N_ind=5, N_c2=5, w=250, line=8)\n",
    "lclc.merge_with(sketch.ports[2], 1)\n",
    "sketch.add_geometry(lclc)\n",
    "\n",
    "sketch.assemble()\n",
    "sketch.save_gds(\"test\")\n"
   ]
  },
  {
   "cell_type": "code",
   "execution_count": null,
   "id": "6cd54801",
   "metadata": {},
   "outputs": [],
   "source": []
  }
 ],
 "metadata": {
  "kernelspec": {
   "display_name": "Python 3",
   "language": "python",
   "name": "python3"
  },
  "language_info": {
   "codemirror_mode": {
    "name": "ipython",
    "version": 3
   },
   "file_extension": ".py",
   "mimetype": "text/x-python",
   "name": "python",
   "nbconvert_exporter": "python",
   "pygments_lexer": "ipython3",
   "version": "3.8.18"
  }
 },
 "nbformat": 4,
 "nbformat_minor": 5
}
