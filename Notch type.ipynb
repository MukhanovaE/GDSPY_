{
 "cells": [
  {
   "cell_type": "code",
   "execution_count": 1,
   "metadata": {
    "ExecuteTime": {
     "end_time": "2023-03-30T11:50:06.345059Z",
     "start_time": "2023-03-30T11:50:06.149039Z"
    }
   },
   "outputs": [],
   "source": [
    "from EDTpy.ChipElements import *\n",
    "import numpy as np\n",
    "import copy\n",
    "from EDTpy import settings\n",
    "import EDTpy\n",
    "from EDTpy import EmptyGeometry\n",
    "from EDTpy import EmptyPath\n",
    "from EDTpy.settings import *\n",
    "import gdspy\n",
    "\n",
    "# setting cpw parameters\n",
    "CPW.default_values['S'] = 20\n",
    "CPW.default_values['W'] = 12\n",
    "CPW.default_values['layer'] = 0\n",
    "\n",
    "dc_s = 2\n",
    "dc_w = 2"
   ]
  },
  {
   "cell_type": "code",
   "execution_count": 2,
   "metadata": {
    "ExecuteTime": {
     "end_time": "2023-03-30T11:50:06.361083Z",
     "start_time": "2023-03-30T11:50:06.348063Z"
    }
   },
   "outputs": [],
   "source": [
    "class Marker(EmptyGeometry):\n",
    "    default_values = {\n",
    "        \"a\": 20,\n",
    "        \"b\": 100,\n",
    "        \"layer\": 0,\n",
    "    }\n",
    "\n",
    "    def _drawing(self, values):\n",
    "        self.name = \"Marker\"\n",
    "        \n",
    "        a = values['a']\n",
    "        b = values['b']\n",
    "        layer = values['layer']\n",
    "        \n",
    "        self + gdspy.Rectangle([-b/2-b/10, -b/2-b/10],\n",
    "                               [b/2+b/10, b/2+b/10], layer = 0)\n",
    "        \n",
    "        mark = gdspy.boolean(gdspy.Rectangle([-b/2, -a/2],[b/2, a/2]), gdspy.Rectangle([-a/2, -b/2],\n",
    "                               [a/2, b/2]), 'or', layer = 0)\n",
    "        self - mark\n",
    "        self.add_port([0, 0], 0)"
   ]
  },
  {
   "cell_type": "code",
   "execution_count": 23,
   "metadata": {
    "ExecuteTime": {
     "end_time": "2023-03-30T12:06:48.490933Z",
     "start_time": "2023-03-30T12:06:48.477922Z"
    }
   },
   "outputs": [],
   "source": [
    "class res(EmptyGeometry):\n",
    "    default_values = {\n",
    "        \"s\": CPW.default_values['S'],\n",
    "        \"w\": CPW.default_values['W'],\n",
    "        \"l\": 5000,\n",
    "        \"layer\": 0,   \n",
    "    }\n",
    "    \n",
    "    def _drawing(self, values):\n",
    "        self.name = \"GraphenHole\"\n",
    "        \n",
    "        self.add_port([0, 0], -90) #0\n"
   ]
  },
  {
   "cell_type": "code",
   "execution_count": 24,
   "metadata": {
    "ExecuteTime": {
     "end_time": "2023-03-30T12:06:49.985276Z",
     "start_time": "2023-03-30T12:06:48.633840Z"
    }
   },
   "outputs": [],
   "source": [
    "sketch = EDTpy.EmptySketch()\n",
    "test = res()\n",
    "sketch.add_geometry(test)\n",
    "test.ports[0].position\n",
    "test.show()"
   ]
  },
  {
   "cell_type": "code",
   "execution_count": 17,
   "metadata": {
    "ExecuteTime": {
     "end_time": "2023-03-30T11:57:58.514965Z",
     "start_time": "2023-03-30T11:57:58.499923Z"
    }
   },
   "outputs": [],
   "source": [
    "class GraphenHole(EmptyGeometry):\n",
    "    default_values = {\n",
    "        \"size1\": 790,\n",
    "        \"size2\": 280,\n",
    "        \"layer\": 0,\n",
    "        \"contact_S\": 2,\n",
    "        \"contact_b\": 12,\n",
    "        \"contact_L\": 30,        \n",
    "    }\n",
    "\n",
    "    def _drawing(self, values):\n",
    "        self.name = \"GraphenHole\"\n",
    "        \n",
    "        self + gdspy.Rectangle([-values['size1']/2, -values['size2']/2],\n",
    "                               [values['size1']/2, values['size2']/2],\n",
    "                               layer = values['layer'])\n",
    "        \n",
    "        width1 = 95\n",
    "        h1 = values['size2']/2\n",
    "        \n",
    "        width2 = 25\n",
    "        h2 = h1+15\n",
    "        \n",
    "        width3 = 7.5\n",
    "        h3 = h1+30\n",
    "        \n",
    "        h4 = h1+40\n",
    "        points = [(width1, h1), \n",
    "                  (width2, h2), (width3, h3), (width3, h4), (-width3, h4),(-width3, h3),(-width2, h2), \n",
    "                  (-width1, h1)]\n",
    "        self + gdspy.Polygon(points)\n",
    "        \n",
    "        self - gdspy.Rectangle([-2.5, h4],\n",
    "                               [2.5, h4-30],\n",
    "                               layer = values['layer'])\n",
    "        \n",
    "        self - gdspy.Rectangle([-width2, h2-5],\n",
    "                               [-width2+5, h2+5],\n",
    "                               layer = values['layer'])\n",
    "        \n",
    "        self - gdspy.Rectangle([width2, h2-5],\n",
    "                               [width2-5, h2+5],\n",
    "                               layer = values['layer'])\n",
    "        \n",
    "        self.add_port([0, h4], 90) #0\n",
    "        \n",
    "        self + gdspy.Rectangle([-30, -h1],\n",
    "                               [30, -h1-70],\n",
    "                               layer = values['layer'])\n",
    "        \n",
    "        self - gdspy.Rectangle([-20, -h1+45],\n",
    "                               [-18, -h1-70],\n",
    "                               layer = values['layer'])\n",
    "        self.add_port([-19, -h1-70], -90) #1\n",
    "        \n",
    "        self - gdspy.Rectangle([20, -h1+45],\n",
    "                               [18, -h1-70],\n",
    "                               layer = values['layer'])\n",
    "        self.add_port([19, -h1-70], -90) #2\n",
    "        \n",
    "        \n",
    "        self - gdspy.Rectangle([-6, -h1+45],\n",
    "                               [-8, -h1-70],\n",
    "                               layer = values['layer'])\n",
    "        self.add_port([-7, -h1-70], -90) #3\n",
    "        \n",
    "        \n",
    "        self - gdspy.Rectangle([6, -h1+45],\n",
    "                               [8, -h1-70],\n",
    "                               layer = values['layer'])\n",
    "        self.add_port([7, -h1-70], -90) #4"
   ]
  },
  {
   "cell_type": "code",
   "execution_count": 14,
   "metadata": {
    "ExecuteTime": {
     "end_time": "2023-03-30T11:56:25.353161Z",
     "start_time": "2023-03-30T11:56:25.341100Z"
    }
   },
   "outputs": [],
   "source": [
    "class CPW_C(EmptyGeometry):\n",
    "    default_values = {\n",
    "        \"s\": CPW.default_values['S'],\n",
    "        \"w\": CPW.default_values['W'],\n",
    "        \"N\": 2, #number of odd elements\n",
    "        \"l\": 50, \n",
    "        \"a\": 3.3, # width of finger\n",
    "        \"b\": 3.3, # gap between fingers\n",
    "        \"g\": 15, # gap between fingers and GND\n",
    "        \"contact_pad_size\": 300,\n",
    "        \"layer\": 0,\n",
    "    }\n",
    "\n",
    "    def _drawing(self, values):\n",
    "        self.name = \"CPW_C\"\n",
    "        \n",
    "        w = values['w']\n",
    "        s = values['s']\n",
    "        N = int((values['N'])/2)\n",
    "        a = values['a']\n",
    "        b = values['b']\n",
    "        l = values['l']+b*2\n",
    "        g = values['g']\n",
    "        gnd = 30\n",
    "        \n",
    "        contact_pad_size = values['contact_pad_size']\n",
    "        layer = values['layer']\n",
    "        \n",
    "        self + gdspy.Rectangle([0, -s/2-w],\n",
    "                               [50, s/2+w], layer = 0)\n",
    "        self - gdspy.Rectangle([0, -s/2],\n",
    "                               [50, s/2], layer = 0)\n",
    "            \n",
    "        L = l+gnd\n",
    "        jo = s/2\n",
    "        jo_g = s/2+w\n",
    "\n",
    "\n",
    "        \n",
    "        z = 50\n",
    "        self + gdspy.Rectangle([z+100, -contact_pad_size/2-50],\n",
    "                               [z+100+contact_pad_size+50, contact_pad_size/2+50], layer = 0)\n",
    "        self - gdspy.Rectangle([z+100, -contact_pad_size/2],\n",
    "                       [z+100+contact_pad_size, contact_pad_size/2], layer = 0)\n",
    "        \n",
    "        points = [(z, jo_g), \n",
    "                  (z+100, contact_pad_size/2+50), (z+100, contact_pad_size/2), \n",
    "                  (z, jo)]\n",
    "        self + gdspy.Polygon(points)\n",
    "        \n",
    "        points = [(z, -jo_g), \n",
    "                  (z+100, -contact_pad_size/2-50), (z+100, -contact_pad_size/2), \n",
    "                  (z, -jo)]\n",
    "        self + gdspy.Polygon(points)\n",
    "\n",
    "        self.add_port([0, 0], 180)"
   ]
  },
  {
   "cell_type": "code",
   "execution_count": 16,
   "metadata": {
    "ExecuteTime": {
     "end_time": "2023-03-30T11:56:26.343598Z",
     "start_time": "2023-03-30T11:56:26.315829Z"
    },
    "scrolled": false
   },
   "outputs": [
    {
     "name": "stderr",
     "output_type": "stream",
     "text": [
      "\n",
      "\n",
      "Assembling Empty Sketch:   0%|                                                                   | 0/7 [00:00<?, ?it/s]\u001b[A\u001b[A"
     ]
    },
    {
     "name": "stdout",
     "output_type": "stream",
     "text": [
      "3400.0\n"
     ]
    }
   ],
   "source": [
    "sketch = EDTpy.EmptySketch()\n",
    "sketch + gdspy.Rectangle([-5000/2, -5000/2],\n",
    "                         [5000/2, 5000/2], layer = 0)\n",
    "\n",
    "sketch - gdspy.Rectangle([-5000/2 + 250, -5000/2 + 250],\n",
    "                         [5000/2 - 250, 5000/2 - 250], layer = 0)\n",
    "\n",
    "sketch.add_port([-2000, 2000], -180) #Marker port  --  0\n",
    "\n",
    "marker = Marker()\n",
    "marker.merge_with(sketch.ports[0], 0)\n",
    "sketch.add_geometry(marker)\n",
    "sketch.circular_array(marker)\n",
    "\n",
    "sketch.add_port([-1700, 0], 180) #Marker port  --  1\n",
    "sketch.add_port([1700, 0], 0) #Marker port  --  2\n",
    "\n",
    "CPW_1 = CPW_C()\n",
    "CPW_1.merge_with(sketch.ports[1], 0)\n",
    "sketch.add_geometry(CPW_1)\n",
    "\n",
    "CPW_2 = CPW_C()\n",
    "CPW_2.merge_with(sketch.ports[2], 0)\n",
    "sketch.add_geometry(CPW_2)\n",
    "\n",
    "h = 700\n",
    "res_path = [sketch.ports[1].position, \n",
    "            sketch.ports[2].position]\n",
    "res_R = 150\n",
    "res = CPW(res_path, res_R)\n",
    "print(res.length)\n",
    "sketch.add_geometry(res)\n",
    "\n",
    "\n",
    "sketch.assemble()\n",
    "sketch.save_gds(\"C:/Users/mukha/Documents/Aalto/Graphen/Munich 2.0/Notch\")\n",
    "# sketch.show()"
   ]
  },
  {
   "cell_type": "code",
   "execution_count": null,
   "metadata": {},
   "outputs": [],
   "source": []
  },
  {
   "cell_type": "code",
   "execution_count": null,
   "metadata": {},
   "outputs": [],
   "source": []
  }
 ],
 "metadata": {
  "kernelspec": {
   "display_name": "Python 3",
   "language": "python",
   "name": "python3"
  },
  "language_info": {
   "codemirror_mode": {
    "name": "ipython",
    "version": 3
   },
   "file_extension": ".py",
   "mimetype": "text/x-python",
   "name": "python",
   "nbconvert_exporter": "python",
   "pygments_lexer": "ipython3",
   "version": "3.8.18"
  }
 },
 "nbformat": 4,
 "nbformat_minor": 4
}
